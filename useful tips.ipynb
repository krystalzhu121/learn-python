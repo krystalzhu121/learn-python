{
 "metadata": {
  "language_info": {
   "codemirror_mode": {
    "name": "ipython",
    "version": 3
   },
   "file_extension": ".py",
   "mimetype": "text/x-python",
   "name": "python",
   "nbconvert_exporter": "python",
   "pygments_lexer": "ipython3",
   "version": "3.8.2"
  },
  "orig_nbformat": 2,
  "kernelspec": {
   "name": "python382jvsc74a57bd031f2aee4e71d21fbe5cf8b01ff0e069b9275f58929596ceb00d14d90e3e16cd6",
   "display_name": "Python 3.8.2 64-bit"
  },
  "metadata": {
   "interpreter": {
    "hash": "31f2aee4e71d21fbe5cf8b01ff0e069b9275f58929596ceb00d14d90e3e16cd6"
   }
  }
 },
 "nbformat": 4,
 "nbformat_minor": 2,
 "cells": [
  {
   "source": [
    "Falsy"
   ],
   "cell_type": "markdown",
   "metadata": {}
  },
  {
   "cell_type": "code",
   "execution_count": null,
   "metadata": {},
   "outputs": [],
   "source": [
    "\"\" #empty string\n",
    "0 #zero\n",
    "None\n",
    "[] #empty list\n",
    "\n",
    "not Falsy = True"
   ]
  },
  {
   "source": [
    "Arithmetic Operations "
   ],
   "cell_type": "markdown",
   "metadata": {}
  },
  {
   "cell_type": "code",
   "execution_count": 2,
   "metadata": {},
   "outputs": [
    {
     "output_type": "stream",
     "name": "stdout",
     "text": [
      "3.3333333333333335 vs 3\n"
     ]
    }
   ],
   "source": [
    "print(f\"{10 / 3} vs {10 //3}\")\n"
   ]
  },
  {
   "source": [
    "Formatted strings"
   ],
   "cell_type": "markdown",
   "metadata": {}
  },
  {
   "cell_type": "code",
   "execution_count": 3,
   "metadata": {},
   "outputs": [
    {
     "output_type": "stream",
     "name": "stdout",
     "text": [
      " PYTHON PROGRAMMING\n python programming\n Python Programming\npython programming\n --ython --rogramming\n8\nTrue\n"
     ]
    }
   ],
   "source": [
    "course = \" python programming\"\n",
    "print(course.upper())\n",
    "print(course.lower())\n",
    "print(course.title())\n",
    "print(course.strip())\n",
    "print(course.replace(\"p\",\"--\"))\n",
    "print(course.find(\"pro\"))\n",
    "print(\"programming\" in course)\n"
   ]
  },
  {
   "source": [
    "logical operators"
   ],
   "cell_type": "markdown",
   "metadata": {}
  },
  {
   "cell_type": "code",
   "execution_count": 5,
   "metadata": {},
   "outputs": [
    {
     "output_type": "stream",
     "name": "stdout",
     "text": [
      "eligible\n"
     ]
    }
   ],
   "source": [
    "age = 25\n",
    "if 18<= age < 60:\n",
    "    print(\"eligible\")"
   ]
  },
  {
   "source": [
    "Ternary operator"
   ],
   "cell_type": "markdown",
   "metadata": {}
  },
  {
   "cell_type": "code",
   "execution_count": 6,
   "metadata": {},
   "outputs": [
    {
     "output_type": "stream",
     "name": "stdout",
     "text": [
      "eligible\n"
     ]
    }
   ],
   "source": [
    "age =25\n",
    "message = \"eligible\" if 18<= age < 60 else \"not eligible\"\n",
    "print(message)"
   ]
  },
  {
   "cell_type": "code",
   "execution_count": null,
   "metadata": {},
   "outputs": [],
   "source": []
  }
 ]
}