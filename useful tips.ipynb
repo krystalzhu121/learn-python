{
 "metadata": {
  "language_info": {
   "codemirror_mode": {
    "name": "ipython",
    "version": 3
   },
   "file_extension": ".py",
   "mimetype": "text/x-python",
   "name": "python",
   "nbconvert_exporter": "python",
   "pygments_lexer": "ipython3",
   "version": "3.8.2"
  },
  "orig_nbformat": 2,
  "kernelspec": {
   "name": "python382jvsc74a57bd031f2aee4e71d21fbe5cf8b01ff0e069b9275f58929596ceb00d14d90e3e16cd6",
   "display_name": "Python 3.8.2 64-bit"
  },
  "metadata": {
   "interpreter": {
    "hash": "31f2aee4e71d21fbe5cf8b01ff0e069b9275f58929596ceb00d14d90e3e16cd6"
   }
  }
 },
 "nbformat": 4,
 "nbformat_minor": 2,
 "cells": [
  {
   "source": [
    "### Falsy"
   ],
   "cell_type": "markdown",
   "metadata": {}
  },
  {
   "cell_type": "code",
   "execution_count": null,
   "metadata": {},
   "outputs": [],
   "source": [
    "\"\" #empty string\n",
    "0 #zero\n",
    "None\n",
    "[] #empty list\n",
    "\n",
    "not Falsy = True"
   ]
  },
  {
   "source": [
    "### Arithmetic Operations "
   ],
   "cell_type": "markdown",
   "metadata": {}
  },
  {
   "cell_type": "code",
   "execution_count": 2,
   "metadata": {},
   "outputs": [
    {
     "output_type": "stream",
     "name": "stdout",
     "text": [
      "3.3333333333333335 vs 3\n"
     ]
    }
   ],
   "source": [
    "print(f\"{10 / 3} vs {10 //3}\")\n"
   ]
  },
  {
   "source": [
    "### Formatted strings"
   ],
   "cell_type": "markdown",
   "metadata": {}
  },
  {
   "cell_type": "code",
   "execution_count": 3,
   "metadata": {},
   "outputs": [
    {
     "output_type": "stream",
     "name": "stdout",
     "text": [
      " PYTHON PROGRAMMING\n python programming\n Python Programming\npython programming\n --ython --rogramming\n8\nTrue\n"
     ]
    }
   ],
   "source": [
    "course = \" python programming\"\n",
    "print(course.upper())\n",
    "print(course.lower())\n",
    "print(course.title())\n",
    "print(course.strip())\n",
    "print(course.replace(\"p\",\"--\"))\n",
    "print(course.find(\"pro\"))\n",
    "print(\"programming\" in course)\n"
   ]
  },
  {
   "source": [
    "### logical operators"
   ],
   "cell_type": "markdown",
   "metadata": {}
  },
  {
   "cell_type": "code",
   "execution_count": 5,
   "metadata": {},
   "outputs": [
    {
     "output_type": "stream",
     "name": "stdout",
     "text": [
      "eligible\n"
     ]
    }
   ],
   "source": [
    "age = 25\n",
    "if 18<= age < 60:\n",
    "    print(\"eligible\")"
   ]
  },
  {
   "source": [
    "### Ternary operator"
   ],
   "cell_type": "markdown",
   "metadata": {}
  },
  {
   "cell_type": "code",
   "execution_count": 6,
   "metadata": {},
   "outputs": [
    {
     "output_type": "stream",
     "name": "stdout",
     "text": [
      "eligible\n"
     ]
    }
   ],
   "source": [
    "age =25\n",
    "message = \"eligible\" if 18<= age < 60 else \"not eligible\"\n",
    "print(message)"
   ]
  },
  {
   "cell_type": "code",
   "execution_count": 7,
   "metadata": {},
   "outputs": [
    {
     "output_type": "stream",
     "name": "stdout",
     "text": [
      "(2, 5)\n"
     ]
    }
   ],
   "source": [
    "def fucn(num,by):\n",
    "    return num, num+by\n",
    "\n",
    "print(fucn(2,3))"
   ]
  },
  {
   "cell_type": "code",
   "execution_count": null,
   "metadata": {},
   "outputs": [],
   "source": [
    "def multiply(*numbers):\n",
    "    total = 1\n",
    "    for number in numbers:\n",
    "        total *= number\n",
    "    return total\n",
    "\n",
    "\n",
    "print(\"start\")\n",
    "print(multiply(1, 2, 3))\n",
    "print(\"finish\")"
   ]
  },
  {
   "source": [
    "### List unpacking"
   ],
   "cell_type": "markdown",
   "metadata": {}
  },
  {
   "cell_type": "code",
   "execution_count": 5,
   "metadata": {},
   "outputs": [
    {
     "output_type": "stream",
     "name": "stdout",
     "text": [
      "1,    2   [3, 4, 5, 6, 7, 8]\n"
     ]
    }
   ],
   "source": [
    "numbers = [1,2,3,4,5,6,7,8]\n",
    "first, second, *other = numbers\n",
    "print(f\"{first},    {second}   {other}\")"
   ]
  },
  {
   "source": [
    "### looping over list"
   ],
   "cell_type": "markdown",
   "metadata": {}
  },
  {
   "cell_type": "code",
   "execution_count": 7,
   "metadata": {},
   "outputs": [
    {
     "output_type": "stream",
     "name": "stdout",
     "text": [
      "0 a\n1 b\n2 c\n"
     ]
    }
   ],
   "source": [
    "letters = [\"a\",\"b\",\"c\"]\n",
    "for index, letter in enumerate(letters): ##list unpacking here\n",
    "    print(index, letter)"
   ]
  },
  {
   "source": [
    "### adding or removing elemens"
   ],
   "cell_type": "markdown",
   "metadata": {}
  },
  {
   "cell_type": "code",
   "execution_count": 13,
   "metadata": {},
   "outputs": [
    {
     "output_type": "stream",
     "name": "stdout",
     "text": [
      "['a', 'b', 'c', 'd']\n['a', 'A', 'b', 'c', 'd']\n['a', 'A', 'b', 'c']\n['a', 'b', 'c']\n['b', 'c']\n"
     ]
    }
   ],
   "source": [
    "letters = [\"a\",\"b\",\"c\"]\n",
    "##add\n",
    "letters.append(\"d\") ## add at the end\n",
    "print(letters)\n",
    "letters.insert(1,\"A\") ## add at a position you want\n",
    "print(letters)\n",
    "\n",
    "##remove\n",
    "letters.pop() ##remove the end of the list\n",
    "print(letters)\n",
    "letters.pop(1) ##remove the item at index 1\n",
    "print(letters)\n",
    "letters.remove(\"a\") #remove the first \"d\"\n",
    "print(letters)\n",
    "del letters[0:1] ##delete a range of items\n",
    "letters.clear()"
   ]
  },
  {
   "source": [
    "### finding items in list"
   ],
   "cell_type": "markdown",
   "metadata": {}
  },
  {
   "cell_type": "code",
   "execution_count": 15,
   "metadata": {},
   "outputs": [
    {
     "output_type": "stream",
     "name": "stdout",
     "text": [
      "0\n"
     ]
    }
   ],
   "source": [
    "letters = [\"a\",\"b\",\"c\"]\n",
    "if \"a\" in letters:\n",
    "    print(letters.index(\"a\"))"
   ]
  },
  {
   "source": [
    "### sorting lists"
   ],
   "cell_type": "markdown",
   "metadata": {}
  },
  {
   "cell_type": "code",
   "execution_count": 20,
   "metadata": {},
   "outputs": [
    {
     "output_type": "stream",
     "name": "stdout",
     "text": [
      "[24, 13, 6, 0.5]\n[0.5, 6, 13, 24]\n[13, 6, 24, 0.5]\n"
     ]
    }
   ],
   "source": [
    "numbers = [13,6,24,0.5]\n",
    "numbers.sort(reverse=True) ##modify the original list\n",
    "print(numbers)\n",
    "\n",
    "\n",
    "##built in sorted\n",
    "numbers = [13,6,24,0.5]\n",
    "print(sorted(numbers)) ##not modify the origianl list\n",
    "print(numbers)"
   ]
  },
  {
   "source": [
    "### lambda functions"
   ],
   "cell_type": "markdown",
   "metadata": {}
  },
  {
   "cell_type": "code",
   "execution_count": 59,
   "metadata": {},
   "outputs": [
    {
     "output_type": "stream",
     "name": "stdout",
     "text": [
      "[('p2', 8), ('p1', 10), ('p3', 12)]\n"
     ]
    }
   ],
   "source": [
    "items = [\n",
    "    (\"p1\",10),\n",
    "    (\"p2\",8),\n",
    "    (\"p3\",12)\n",
    "]\n",
    "\n",
    "items.sort(key = lambda item:item[1])\n",
    "print(items)"
   ]
  },
  {
   "source": [],
   "cell_type": "markdown",
   "metadata": {}
  },
  {
   "source": [
    "### Map function to transform one datastructure to another using lambda functions"
   ],
   "cell_type": "markdown",
   "metadata": {}
  },
  {
   "cell_type": "code",
   "execution_count": null,
   "metadata": {},
   "outputs": [],
   "source": [
    "items = [\n",
    "    (\"p1\",10),\n",
    "    (\"p2\",8),\n",
    "    (\"p3\",12)\n",
    "]\n",
    "##map function takes a lambda function and apply it on a iterable\n",
    "prices = list(map(lambda item:item[1], items))\n",
    "print(price)"
   ]
  },
  {
   "source": [
    "### filter function to transform the data set using lambda function and based on criterias"
   ],
   "cell_type": "markdown",
   "metadata": {}
  },
  {
   "cell_type": "code",
   "execution_count": 23,
   "metadata": {},
   "outputs": [
    {
     "output_type": "stream",
     "name": "stdout",
     "text": [
      "[('p3', 12)]\n"
     ]
    }
   ],
   "source": [
    "items = [\n",
    "    (\"p1\",10),\n",
    "    (\"p2\",8),\n",
    "    (\"p3\",12)\n",
    "]\n",
    "filtered =list( filter(lambda item:item[1]>11, items))\n",
    "print(filtered)"
   ]
  },
  {
   "source": [
    "### List comprehensions -- most widely used\n",
    "### /[expression/what do you return for item in items]/"
   ],
   "cell_type": "markdown",
   "metadata": {}
  },
  {
   "cell_type": "code",
   "execution_count": 24,
   "metadata": {},
   "outputs": [
    {
     "output_type": "stream",
     "name": "stdout",
     "text": [
      "[10, 8, 12]\n[('p3', 12)]\n"
     ]
    }
   ],
   "source": [
    "items = [\n",
    "    (\"p1\",10),\n",
    "    (\"p2\",8),\n",
    "    (\"p3\",12)\n",
    "]\n",
    "\n",
    "prices = [item[1] for item in items]\n",
    "print(prices)\n",
    "\n",
    "price_filters = [item for item in items if item[1]>10]\n",
    "print(price_filters)"
   ]
  },
  {
   "source": [
    "### zip function"
   ],
   "cell_type": "markdown",
   "metadata": {}
  },
  {
   "cell_type": "code",
   "execution_count": 25,
   "metadata": {},
   "outputs": [
    {
     "output_type": "stream",
     "name": "stdout",
     "text": [
      "[('z', 1, 'a'), ('x', 2, 'b'), ('l', 3, 'c')]\n"
     ]
    }
   ],
   "source": [
    "list1 =[ 1,2,3]\n",
    "list2 = [\"a\",\"b\",\"c\"]\n",
    "combined = list(zip(\"zxl\",list1,list2))\n",
    "print(combined)"
   ]
  },
  {
   "source": [
    "### stacks -- LILO"
   ],
   "cell_type": "markdown",
   "metadata": {}
  },
  {
   "cell_type": "code",
   "execution_count": 29,
   "metadata": {},
   "outputs": [
    {
     "output_type": "stream",
     "name": "stdout",
     "text": [
      "1\n"
     ]
    }
   ],
   "source": [
    "browsing_session = []\n",
    "for i in range(1,4):\n",
    "    browsing_session.append(i)\n",
    "browsing_session.pop()\n",
    "browsing_session.pop()\n",
    "if browsing_session:###check if the list is empty or not \n",
    "    print(browsing_session[-1])"
   ]
  },
  {
   "source": [
    "### Queue - FIFO, remove the item from the beginning of the list, need to import deque module "
   ],
   "cell_type": "markdown",
   "metadata": {}
  },
  {
   "cell_type": "code",
   "execution_count": 31,
   "metadata": {},
   "outputs": [
    {
     "output_type": "stream",
     "name": "stdout",
     "text": [
      "deque([1, 2, 3])\nempty queue\n"
     ]
    }
   ],
   "source": [
    "from collections import deque\n",
    "queue = deque([])\n",
    "queue.append(1)\n",
    "queue.append(2)\n",
    "queue.append(3)\n",
    "print(queue)\n",
    "queue.popleft()\n",
    "queue.popleft()\n",
    "queue.popleft()\n",
    "if not queue:\n",
    "    print(\"empty queue\")"
   ]
  },
  {
   "source": [
    "### tuples -- read only list"
   ],
   "cell_type": "markdown",
   "metadata": {}
  },
  {
   "cell_type": "code",
   "execution_count": 32,
   "metadata": {},
   "outputs": [
    {
     "output_type": "stream",
     "name": "stdout",
     "text": [
      "<class 'tuple'>\n('h', 'e', 'l', 'l', 'o', ' ', 'w', 'o', 'r', 'l', 'd')\n(1, 2)\n[3, 4]\nexists\n"
     ]
    }
   ],
   "source": [
    "point = (1,2) + (3,4)\n",
    "print(type(point))\n",
    "print(tuple(\"hello world\"))\n",
    "print(point[0:2])\n",
    "\n",
    "##unpacking\n",
    "x,y,*other = point\n",
    "print(other)\n",
    "if 2 in point:\n",
    "    print(\"exists\")\n",
    "\n"
   ]
  },
  {
   "source": [
    "### Swapping variables"
   ],
   "cell_type": "markdown",
   "metadata": {}
  },
  {
   "cell_type": "code",
   "execution_count": 33,
   "metadata": {},
   "outputs": [
    {
     "output_type": "stream",
     "name": "stdout",
     "text": [
      "x 12\ny 10\n"
     ]
    }
   ],
   "source": [
    "##python way, the logic is through unpacking tuple\n",
    "x = 10\n",
    "y= 12\n",
    "x,y = y,x ##here y,x is a tuple and you are unpacking the tuple to assign x with the value of y \n",
    "print(\"x\",x)\n",
    "print(\"y\",y)"
   ]
  },
  {
   "source": [
    "### Array -- good to deal with large data set, with better performance compared with list, but most of the time you would use list"
   ],
   "cell_type": "markdown",
   "metadata": {}
  },
  {
   "cell_type": "code",
   "execution_count": 34,
   "metadata": {},
   "outputs": [],
   "source": [
    "from array import array\n",
    "numbers = array(\"i\", [1,2,3])\n",
    "##need to note that unlike list, the variable inside can be of any type, the type of variable inside the array must be of the type i -- signed int"
   ]
  },
  {
   "source": [
    "### Set{} -- a collection with no duplicates, does not support indexing"
   ],
   "cell_type": "markdown",
   "metadata": {}
  },
  {
   "cell_type": "code",
   "execution_count": 42,
   "metadata": {},
   "outputs": [
    {
     "output_type": "stream",
     "name": "stdout",
     "text": [
      "{1, 2, 3, 4, 5}\n{1}\n{2, 3, 4}\n{2, 3, 4, 5}\nyes\n"
     ]
    }
   ],
   "source": [
    "# numbers = [1,1,2,3,4]\n",
    "# unique = set(numbers)\n",
    "# print(unique)\n",
    "# unique.add(5)\n",
    "# print(unique)\n",
    "# print(len(unique))\n",
    "\n",
    "numbers = [1,1,2,3,4]\n",
    "first = set(numbers)\n",
    "second = {1,5}\n",
    "###union of two sets\n",
    "print(first | second)\n",
    "###intersection of two sets\n",
    "print(first & second)\n",
    "###difference between two sets, what does the first set has that is not in the second set\n",
    "print(first - second)\n",
    "###items that are either in the first/second set but not both\n",
    "print(first  ^ second)\n",
    "\n",
    "if 1 in first:\n",
    "    print(\"yes\")"
   ]
  },
  {
   "source": [
    "### Dictionaries"
   ],
   "cell_type": "markdown",
   "metadata": {}
  },
  {
   "cell_type": "code",
   "execution_count": 110,
   "metadata": {},
   "outputs": [
    {
     "output_type": "stream",
     "name": "stdout",
     "text": [
      "0\ndict_keys(['x', 'y', 'z'])\ndict_values([10, 2, 20])\ndict_items([('x', 10), ('y', 2), ('z', 20)])\n{'y': 2, 'z': 20}\ny 2\nz 20\n"
     ]
    }
   ],
   "source": [
    "## Two ways of creating dictionaries\n",
    "point = {\"x\":1,\"y\":2}\n",
    "point =dict(x=1,y=2) ###personally i think it is better\n",
    "\n",
    "### Changin/adding values in dictionary\n",
    "point[\"x\"] = 10\n",
    "point[\"z\"] = 20\n",
    "\n",
    "### See if the value is in the dict, otherwise print 0\n",
    "print(point.get(\"a\",0))\n",
    "\n",
    "### getting all keys\n",
    "print(point.keys())\n",
    "\n",
    "### getting all values\n",
    "print(point.values())\n",
    "\n",
    "### getting key value pairs, return a list of tuples\n",
    "print(point.items())\n",
    "\n",
    "## deleting a dictionary\n",
    "del point[\"x\"]\n",
    "print(point)\n",
    "\n",
    "## iterating over dictionary\n",
    "for key, value in point.items(): #here point.item() return a tuple so you can do unpacking\n",
    "    print(key, value)"
   ]
  },
  {
   "source": [
    "### Dictionary comprehensions\n",
    "### Sames as list and set comprehensions"
   ],
   "cell_type": "markdown",
   "metadata": {}
  },
  {
   "cell_type": "code",
   "execution_count": 45,
   "metadata": {},
   "outputs": [
    {
     "output_type": "stream",
     "name": "stdout",
     "text": [
      "{0: 0, 1: 2, 2: 4, 3: 6, 4: 8}\n"
     ]
    }
   ],
   "source": [
    "result = {x:x*2 for x in range(5)}\n",
    "print(result)"
   ]
  },
  {
   "source": [
    "### Generator expressions -- you wont want to store the large data set in memory then you can generate on the go"
   ],
   "cell_type": "markdown",
   "metadata": {}
  },
  {
   "cell_type": "code",
   "execution_count": 48,
   "metadata": {},
   "outputs": [
    {
     "output_type": "stream",
     "name": "stdout",
     "text": [
      "gen-1: 112\ngen-2: 112\nlist: 8697456\n"
     ]
    }
   ],
   "source": [
    "from sys import getsizeof\n",
    "\n",
    "values1 = (x*2 for x in range(1000000))\n",
    "values2 = (x*2 for x in range(1000000000))\n",
    "print(\"gen-1:\", getsizeof(values1))\n",
    "print(\"gen-2:\", getsizeof(values2))\n",
    "\n",
    "values3 = [x*2 for x in range(1000000)]\n",
    "print(\"list:\", getsizeof(values3))\n",
    "\n",
    "\n"
   ]
  },
  {
   "source": [
    "### Unpacking operators -- to get the individual values of any iterable"
   ],
   "cell_type": "markdown",
   "metadata": {}
  },
  {
   "cell_type": "code",
   "execution_count": 50,
   "metadata": {},
   "outputs": [
    {
     "output_type": "stream",
     "name": "stdout",
     "text": [
      "[1, 2, 3, 4, 5]\n1 2 3 4 5\n[1, 2, 3, 4, 5, 3, 4, 5, 6]\n"
     ]
    }
   ],
   "source": [
    "list1 = [1,2,3,4,5]\n",
    "print(list1)\n",
    "print(*list1)\n",
    "\n",
    "values = [*range(5),*\"hello\"]\n",
    "print(values)\n",
    "list2 = [3,4,5,6]\n"
   ]
  },
  {
   "cell_type": "code",
   "execution_count": 84,
   "metadata": {},
   "outputs": [
    {
     "output_type": "stream",
     "name": "stdout",
     "text": [
      "[('i', 5), (' ', 4), ('t', 3), ('s', 3), ('n', 3), ('e', 3), ('h', 1), ('a', 1), ('r', 1), ('v', 1), ('w', 1), ('q', 1), ('u', 1), ('o', 1)]\n"
     ]
    }
   ],
   "source": [
    "sentence = \"this is an interview question\"\n",
    "sentence = list(sentence)\n",
    "sentence_dic = {item:sentence.count(item) for item in sentence}\n",
    "sentence = [(key,value) for key, value in sentence_dic.items()]\n",
    "\n",
    "sentence.sort(key= lambda x:x[1],reverse=True)\n",
    "print(sentence)"
   ]
  },
  {
   "cell_type": "code",
   "execution_count": null,
   "metadata": {},
   "outputs": [],
   "source": [
    "###lambda parameters(input):expression(return)\n",
    "###map(lambda parameters(input):expression(return),iterable(apply lambda function on each of the items in the iterable))\n",
    "###filter(lambda parameters(input):expression(return),iterable(apply lambda function on each of the items in the iterable))\n",
    "### comprehension [expression for item in items]\n"
   ]
  },
  {
   "source": [
    "### comprehension [expression(return value) for item in items]"
   ],
   "cell_type": "markdown",
   "metadata": {}
  },
  {
   "cell_type": "code",
   "execution_count": 87,
   "metadata": {},
   "outputs": [
    {
     "output_type": "stream",
     "name": "stdout",
     "text": [
      "[1, 3, 5, 7, 9, 11, 13, 15, 17, 19, 21, 23, 25, 27, 29, 31, 33, 35, 37, 39, 41, 43, 45, 47, 49]\n[1, 5, 9, 13, 17, 21, 25, 29, 33, 37, 41, 45, 49, 53, 57, 61, 65, 69, 73, 77, 81, 85, 89, 93, 97]\n"
     ]
    }
   ],
   "source": [
    "### list/set comprehension \n",
    "prices = list(range(1,51,2))\n",
    "premium_prices = [price *2 -1 for price in prices]\n",
    "print(prices)\n",
    "print(premium_prices)"
   ]
  },
  {
   "cell_type": "code",
   "execution_count": 92,
   "metadata": {},
   "outputs": [
    {
     "output_type": "stream",
     "name": "stdout",
     "text": [
      "{'hia': 2, 'hib': 4, 'hic': 6}\n"
     ]
    }
   ],
   "source": [
    "### dictionary comprehension \n",
    "dic1 = dict(a=1,b=2,c=3)\n",
    "dict2 = {\"hi\"+k:v*2 for k,v in dic1.items()}\n",
    "print(dict2)"
   ]
  },
  {
   "source": [
    "### sorting in python"
   ],
   "cell_type": "markdown",
   "metadata": {}
  },
  {
   "cell_type": "code",
   "execution_count": 101,
   "metadata": {},
   "outputs": [],
   "source": [
    "##.sort will sort on the list itself, only apply to list and set\n",
    "## sorted would create a new object and can apply to any iterable, can apply to tuple and dictionary"
   ]
  },
  {
   "cell_type": "code",
   "execution_count": 103,
   "metadata": {},
   "outputs": [
    {
     "output_type": "stream",
     "name": "stdout",
     "text": [
      "[2, 3, 0, 15, 9, 24]\n[0, 2, 3, 9, 15, 24]\n"
     ]
    }
   ],
   "source": [
    "## list\n",
    "l1 = [2,3,0,15,9,24]\n",
    "sorted(l1)\n",
    "print(l1)\n",
    "l1.sort()\n",
    "print(l1)"
   ]
  },
  {
   "cell_type": "code",
   "execution_count": 106,
   "metadata": {},
   "outputs": [
    {
     "output_type": "stream",
     "name": "stdout",
     "text": [
      "[('b', 7), ('a', 9), ('c', 11)]\n[('b', 7), ('a', 9), ('c', 11)]\n"
     ]
    }
   ],
   "source": [
    "## list of tuples\n",
    "l2 =[\n",
    "    (\"a\",9),\n",
    "    (\"b\",7),\n",
    "    (\"c\",11)\n",
    "]\n",
    "l3 = sorted(l2,key=lambda a:a[1])\n",
    "print(l3)\n",
    "l2.sort(key=lambda a:a[1])\n",
    "print(l2)"
   ]
  },
  {
   "cell_type": "code",
   "execution_count": 121,
   "metadata": {},
   "outputs": [
    {
     "output_type": "stream",
     "name": "stdout",
     "text": [
      "['China', 'France', 'USA']\n[('China', 130), ('France', 191), ('USA', 110)]\n{'China': 130, 'France': 191, 'USA': 110}\n{'USA': 110, 'China': 130, 'France': 191}\n"
     ]
    }
   ],
   "source": [
    "## sorting dictionaries\n",
    "d1 = {\"France\":191,\"China\":130,\"USA\":110}\n",
    "\n",
    "## return sorted keys by alphabetical order, \n",
    "print(sorted(d1)) ## a list\n",
    "print(sorted(d1.items())) ## a list tuple\n",
    "\n",
    "## sort dictionary by keys\n",
    "d1_sortbykeys = {k:v for k,v in sorted(d1.items())}\n",
    "print(d1_sortbykeys)\n",
    "\n",
    "## sort dictionary by values\n",
    "d1_sortbyvalues = {k:v for k,v in sorted(d1.items(), key=lambda v:v[1])}\n",
    "print(d1_sortbyvalues)"
   ]
  },
  {
   "cell_type": "code",
   "execution_count": null,
   "metadata": {},
   "outputs": [],
   "source": []
  }
 ]
}